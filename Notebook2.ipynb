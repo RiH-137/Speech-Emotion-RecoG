{
 "cells": [
  {
   "cell_type": "code",
   "execution_count": 3,
   "id": "3901cc5e-6846-4403-88bb-8e3c7beceaa0",
   "metadata": {},
   "outputs": [],
   "source": [
    "import librosa\n",
    "import numpy as np\n",
    "import pandas as pd\n",
    "from tensorflow.keras.preprocessing.sequence import pad_sequences\n",
    "from sklearn.preprocessing import LabelEncoder\n",
    "import os"
   ]
  },
  {
   "cell_type": "code",
   "execution_count": 14,
   "id": "58fc5c91-74aa-4097-bf0e-7a5908f64dfe",
   "metadata": {},
   "outputs": [
    {
     "name": "stdout",
     "output_type": "stream",
     "text": [
      "  Emotions                                       Path\n",
      "0  neutral  archive\\Actor_01\\03-01-01-01-01-01-01.wav\n",
      "1  neutral  archive\\Actor_01\\03-01-01-01-01-02-01.wav\n",
      "2  neutral  archive\\Actor_01\\03-01-01-01-02-01-01.wav\n",
      "3  neutral  archive\\Actor_01\\03-01-01-01-02-02-01.wav\n",
      "4     calm  archive\\Actor_01\\03-01-02-01-01-01-01.wav\n"
     ]
    }
   ],
   "source": [
    "import os\n",
    "import pandas as pd\n",
    "\n",
    "# Assuming 'ravdess_df' already has the 'Emotions' column filled\n",
    "# Set the directory where your data is stored\n",
    "data_directory = 'archive'\n",
    "\n",
    "# Initialize empty lists for paths and emotions\n",
    "file_paths = []\n",
    "file_emotions = []\n",
    "\n",
    "# Loop through each subfolder in the data directory (actors folder)\n",
    "for actor_folder in os.listdir(data_directory):\n",
    "    actor_path = os.path.join(data_directory, actor_folder)\n",
    "    \n",
    "    # Skip if it's not a folder\n",
    "    if not os.path.isdir(actor_path):\n",
    "        continue\n",
    "    \n",
    "    # Loop through each file in the actor's folder\n",
    "    for file_name in os.listdir(actor_path):\n",
    "        # Check if it's a .wav file\n",
    "        if file_name.endswith('.wav'):\n",
    "            # Full file path\n",
    "            full_path = os.path.join(actor_path, file_name)\n",
    "            \n",
    "            # Get the emotion from the file name (based on your naming convention)\n",
    "            # e.g., for 03-01-01-01-01-01.wav, the emotion might be extracted from the third part (03)\n",
    "            parts = file_name.split('-')\n",
    "            emotion_code = int(parts[2])  # Assuming the emotion code is the third part\n",
    "            \n",
    "            # Append the emotion and path to the lists\n",
    "            file_emotions.append(emotion_code)\n",
    "            file_paths.append(full_path)\n",
    "\n",
    "# Create a dataframe with paths and emotions\n",
    "ravdess_df = pd.DataFrame({\n",
    "    'Emotions': file_emotions,\n",
    "    'Path': file_paths\n",
    "})\n",
    "\n",
    "# Map the emotion codes to actual emotion labels\n",
    "ravdess_df['Emotions'] = ravdess_df['Emotions'].replace({\n",
    "    1: 'neutral',\n",
    "    2: 'calm',\n",
    "    3: 'happy',\n",
    "    4: 'sad',\n",
    "    5: 'angry',\n",
    "    6: 'fear',\n",
    "    7: 'disgust',\n",
    "    8: 'surprise'\n",
    "})\n",
    "\n",
    "# Print the first few rows of the dataframe\n",
    "print(ravdess_df.head())\n"
   ]
  },
  {
   "cell_type": "code",
   "execution_count": null,
   "id": "10d25483-11c5-4e09-ae09-e3f28834d0e6",
   "metadata": {},
   "outputs": [],
   "source": []
  },
  {
   "cell_type": "code",
   "execution_count": null,
   "id": "be344714-8378-4f6f-b216-27901e9d51f3",
   "metadata": {},
   "outputs": [],
   "source": []
  },
  {
   "cell_type": "code",
   "execution_count": 16,
   "id": "6fcf5b4a-f7c5-4058-9aa3-1b00ccb601ea",
   "metadata": {},
   "outputs": [],
   "source": [
    "def extract_features(file_path):\n",
    "    y, sr = librosa.load(file_path, sr=None)\n",
    "    # Extract MFCC features (13 coefficients)\n",
    "    mfcc = librosa.feature.mfcc(y=y, sr=sr, n_mfcc=13)\n",
    "    # Take the mean of each coefficient across time frames\n",
    "    mfcc = np.mean(mfcc.T, axis=0)\n",
    "    return mfcc"
   ]
  },
  {
   "cell_type": "code",
   "execution_count": 18,
   "id": "1f45859a-2a35-441a-a3fd-12947847dd55",
   "metadata": {},
   "outputs": [],
   "source": [
    "features = []\n",
    "labels = []"
   ]
  },
  {
   "cell_type": "code",
   "execution_count": 19,
   "id": "ff881696-ec57-4034-bd81-57e7e56def97",
   "metadata": {},
   "outputs": [],
   "source": [
    "for index, row in ravdess_df.iterrows():\n",
    "    file_path = row['Path']\n",
    "    emotion = row['Emotions']\n",
    "    mfcc = extract_features(file_path)\n",
    "    features.append(mfcc)\n",
    "    labels.append(emotion)"
   ]
  },
  {
   "cell_type": "code",
   "execution_count": 20,
   "id": "277ca924-5816-4c0b-829d-da66b8ab9c86",
   "metadata": {},
   "outputs": [],
   "source": [
    "# Convert features to numpy array\n",
    "X = np.array(features)\n",
    "\n",
    "# Label encode the emotions\n",
    "label_encoder = LabelEncoder()\n",
    "y = label_encoder.fit_transform(labels)\n",
    "\n",
    "# Reshape X to fit LSTM input requirements (samples, timesteps, features)\n",
    "X = np.expand_dims(X, axis=-1)\n",
    "\n",
    "# Pad sequences to ensure uniform input size for LSTM\n",
    "X = pad_sequences(X, dtype='float32')"
   ]
  },
  {
   "cell_type": "code",
   "execution_count": 21,
   "id": "5fa0e871-a2c6-422a-b9bc-d048080c086f",
   "metadata": {},
   "outputs": [
    {
     "name": "stdout",
     "output_type": "stream",
     "text": [
      "(1440, 13, 1) (1440,)\n"
     ]
    }
   ],
   "source": [
    "print(X.shape, y.shape)"
   ]
  },
  {
   "cell_type": "code",
   "execution_count": 35,
   "id": "166c4d72-0209-4ca1-bd32-70defa55936c",
   "metadata": {},
   "outputs": [
    {
     "ename": "AttributeError",
     "evalue": "'numpy.ndarray' object has no attribute 'info'",
     "output_type": "error",
     "traceback": [
      "\u001b[1;31m---------------------------------------------------------------------------\u001b[0m",
      "\u001b[1;31mAttributeError\u001b[0m                            Traceback (most recent call last)",
      "Cell \u001b[1;32mIn[35], line 1\u001b[0m\n\u001b[1;32m----> 1\u001b[0m y\u001b[38;5;241m.\u001b[39minfo()\n",
      "\u001b[1;31mAttributeError\u001b[0m: 'numpy.ndarray' object has no attribute 'info'"
     ]
    }
   ],
   "source": [
    "y.info()"
   ]
  },
  {
   "cell_type": "code",
   "execution_count": null,
   "id": "04ae0868-5822-45a8-8f7d-837538d09a88",
   "metadata": {},
   "outputs": [],
   "source": []
  },
  {
   "cell_type": "code",
   "execution_count": null,
   "id": "3bb23805-472b-4e05-bf18-a67670829091",
   "metadata": {},
   "outputs": [],
   "source": []
  },
  {
   "cell_type": "code",
   "execution_count": null,
   "id": "637826de-7b74-46c8-80ed-d3480d70d9da",
   "metadata": {},
   "outputs": [],
   "source": []
  },
  {
   "cell_type": "markdown",
   "id": "f5d0de4d-590c-4534-bb42-d92d7bf21d21",
   "metadata": {},
   "source": [
    "## Building LSTM Model"
   ]
  },
  {
   "cell_type": "code",
   "execution_count": 22,
   "id": "f80136bb-0e30-47a5-9f2a-4d15bc6ae754",
   "metadata": {},
   "outputs": [],
   "source": [
    "import tensorflow as tf\n",
    "from tensorflow.keras.models import Sequential\n",
    "from tensorflow.keras.layers import LSTM, Dense, Dropout"
   ]
  },
  {
   "cell_type": "code",
   "execution_count": null,
   "id": "7cfd7ab2-1542-409d-9f16-83bbafafdadd",
   "metadata": {},
   "outputs": [],
   "source": []
  },
  {
   "cell_type": "code",
   "execution_count": 25,
   "id": "e53e20ef-5fab-48d4-878e-9c3be28ab133",
   "metadata": {},
   "outputs": [],
   "source": [
    "# Define the LSTM model\n",
    "model = Sequential()\n",
    "\n",
    "# LSTM layer\n",
    "model.add(LSTM(128, return_sequences=True, input_shape=(X.shape[1], X.shape[2])))\n",
    "model.add(Dropout(0.2))\n",
    "model.add(LSTM(128))\n",
    "model.add(Dropout(0.2))\n",
    "model.add(Dense(64, activation='relu'))\n",
    "model.add(Dropout(0.2))\n",
    "model.add(Dense(len(label_encoder.classes_), activation='softmax'))  # Number of classes"
   ]
  },
  {
   "cell_type": "code",
   "execution_count": 26,
   "id": "10f8be44-a502-456d-bc8d-2f74ea37ca39",
   "metadata": {},
   "outputs": [],
   "source": [
    "\n",
    "# Compile the model\n",
    "model.compile(loss='sparse_categorical_crossentropy', optimizer='adam', metrics=['accuracy'])"
   ]
  },
  {
   "cell_type": "code",
   "execution_count": 29,
   "id": "9b92444f-0a3e-499e-8483-51c74ce0fab8",
   "metadata": {},
   "outputs": [
    {
     "name": "stdout",
     "output_type": "stream",
     "text": [
      "Epoch 1/25\n",
      "\u001b[1m58/58\u001b[0m \u001b[32m━━━━━━━━━━━━━━━━━━━━\u001b[0m\u001b[37m\u001b[0m \u001b[1m1s\u001b[0m 20ms/step - accuracy: 0.6454 - loss: 0.9456 - val_accuracy: 0.3420 - val_loss: 2.2360\n",
      "Epoch 2/25\n",
      "\u001b[1m58/58\u001b[0m \u001b[32m━━━━━━━━━━━━━━━━━━━━\u001b[0m\u001b[37m\u001b[0m \u001b[1m1s\u001b[0m 18ms/step - accuracy: 0.6762 - loss: 0.8805 - val_accuracy: 0.3837 - val_loss: 2.1116\n",
      "Epoch 3/25\n",
      "\u001b[1m58/58\u001b[0m \u001b[32m━━━━━━━━━━━━━━━━━━━━\u001b[0m\u001b[37m\u001b[0m \u001b[1m1s\u001b[0m 18ms/step - accuracy: 0.7141 - loss: 0.8168 - val_accuracy: 0.3750 - val_loss: 2.2145\n",
      "Epoch 4/25\n",
      "\u001b[1m58/58\u001b[0m \u001b[32m━━━━━━━━━━━━━━━━━━━━\u001b[0m\u001b[37m\u001b[0m \u001b[1m1s\u001b[0m 19ms/step - accuracy: 0.7498 - loss: 0.7101 - val_accuracy: 0.3177 - val_loss: 2.4319\n",
      "Epoch 5/25\n",
      "\u001b[1m58/58\u001b[0m \u001b[32m━━━━━━━━━━━━━━━━━━━━\u001b[0m\u001b[37m\u001b[0m \u001b[1m1s\u001b[0m 16ms/step - accuracy: 0.6837 - loss: 0.8474 - val_accuracy: 0.3403 - val_loss: 2.2551\n",
      "Epoch 6/25\n",
      "\u001b[1m58/58\u001b[0m \u001b[32m━━━━━━━━━━━━━━━━━━━━\u001b[0m\u001b[37m\u001b[0m \u001b[1m1s\u001b[0m 19ms/step - accuracy: 0.7556 - loss: 0.7026 - val_accuracy: 0.3524 - val_loss: 2.3927\n",
      "Epoch 7/25\n",
      "\u001b[1m58/58\u001b[0m \u001b[32m━━━━━━━━━━━━━━━━━━━━\u001b[0m\u001b[37m\u001b[0m \u001b[1m1s\u001b[0m 19ms/step - accuracy: 0.7484 - loss: 0.6898 - val_accuracy: 0.3194 - val_loss: 2.6065\n",
      "Epoch 8/25\n",
      "\u001b[1m58/58\u001b[0m \u001b[32m━━━━━━━━━━━━━━━━━━━━\u001b[0m\u001b[37m\u001b[0m \u001b[1m1s\u001b[0m 17ms/step - accuracy: 0.7689 - loss: 0.6129 - val_accuracy: 0.3212 - val_loss: 2.5369\n",
      "Epoch 9/25\n",
      "\u001b[1m58/58\u001b[0m \u001b[32m━━━━━━━━━━━━━━━━━━━━\u001b[0m\u001b[37m\u001b[0m \u001b[1m1s\u001b[0m 17ms/step - accuracy: 0.8186 - loss: 0.5526 - val_accuracy: 0.3212 - val_loss: 2.8629\n",
      "Epoch 10/25\n",
      "\u001b[1m58/58\u001b[0m \u001b[32m━━━━━━━━━━━━━━━━━━━━\u001b[0m\u001b[37m\u001b[0m \u001b[1m1s\u001b[0m 17ms/step - accuracy: 0.7739 - loss: 0.5874 - val_accuracy: 0.3420 - val_loss: 2.7830\n",
      "Epoch 11/25\n",
      "\u001b[1m58/58\u001b[0m \u001b[32m━━━━━━━━━━━━━━━━━━━━\u001b[0m\u001b[37m\u001b[0m \u001b[1m1s\u001b[0m 17ms/step - accuracy: 0.8240 - loss: 0.5141 - val_accuracy: 0.3264 - val_loss: 3.0879\n",
      "Epoch 12/25\n",
      "\u001b[1m58/58\u001b[0m \u001b[32m━━━━━━━━━━━━━━━━━━━━\u001b[0m\u001b[37m\u001b[0m \u001b[1m1s\u001b[0m 17ms/step - accuracy: 0.8078 - loss: 0.5214 - val_accuracy: 0.3177 - val_loss: 2.8458\n",
      "Epoch 13/25\n",
      "\u001b[1m58/58\u001b[0m \u001b[32m━━━━━━━━━━━━━━━━━━━━\u001b[0m\u001b[37m\u001b[0m \u001b[1m1s\u001b[0m 19ms/step - accuracy: 0.8113 - loss: 0.4922 - val_accuracy: 0.3177 - val_loss: 3.0460\n",
      "Epoch 14/25\n",
      "\u001b[1m58/58\u001b[0m \u001b[32m━━━━━━━━━━━━━━━━━━━━\u001b[0m\u001b[37m\u001b[0m \u001b[1m1s\u001b[0m 19ms/step - accuracy: 0.8615 - loss: 0.3910 - val_accuracy: 0.3003 - val_loss: 3.0510\n",
      "Epoch 15/25\n",
      "\u001b[1m58/58\u001b[0m \u001b[32m━━━━━━━━━━━━━━━━━━━━\u001b[0m\u001b[37m\u001b[0m \u001b[1m1s\u001b[0m 18ms/step - accuracy: 0.8081 - loss: 0.5221 - val_accuracy: 0.3142 - val_loss: 3.1001\n",
      "Epoch 16/25\n",
      "\u001b[1m58/58\u001b[0m \u001b[32m━━━━━━━━━━━━━━━━━━━━\u001b[0m\u001b[37m\u001b[0m \u001b[1m1s\u001b[0m 16ms/step - accuracy: 0.8231 - loss: 0.4711 - val_accuracy: 0.3056 - val_loss: 3.2666\n",
      "Epoch 17/25\n",
      "\u001b[1m58/58\u001b[0m \u001b[32m━━━━━━━━━━━━━━━━━━━━\u001b[0m\u001b[37m\u001b[0m \u001b[1m1s\u001b[0m 19ms/step - accuracy: 0.8850 - loss: 0.3327 - val_accuracy: 0.3160 - val_loss: 3.3052\n",
      "Epoch 18/25\n",
      "\u001b[1m58/58\u001b[0m \u001b[32m━━━━━━━━━━━━━━━━━━━━\u001b[0m\u001b[37m\u001b[0m \u001b[1m1s\u001b[0m 18ms/step - accuracy: 0.8967 - loss: 0.2838 - val_accuracy: 0.3247 - val_loss: 3.3626\n",
      "Epoch 19/25\n",
      "\u001b[1m58/58\u001b[0m \u001b[32m━━━━━━━━━━━━━━━━━━━━\u001b[0m\u001b[37m\u001b[0m \u001b[1m1s\u001b[0m 16ms/step - accuracy: 0.8937 - loss: 0.3075 - val_accuracy: 0.3333 - val_loss: 3.3783\n",
      "Epoch 20/25\n",
      "\u001b[1m58/58\u001b[0m \u001b[32m━━━━━━━━━━━━━━━━━━━━\u001b[0m\u001b[37m\u001b[0m \u001b[1m1s\u001b[0m 18ms/step - accuracy: 0.8595 - loss: 0.3632 - val_accuracy: 0.3316 - val_loss: 3.5077\n",
      "Epoch 21/25\n",
      "\u001b[1m58/58\u001b[0m \u001b[32m━━━━━━━━━━━━━━━━━━━━\u001b[0m\u001b[37m\u001b[0m \u001b[1m1s\u001b[0m 19ms/step - accuracy: 0.9039 - loss: 0.3009 - val_accuracy: 0.3229 - val_loss: 3.4348\n",
      "Epoch 22/25\n",
      "\u001b[1m58/58\u001b[0m \u001b[32m━━━━━━━━━━━━━━━━━━━━\u001b[0m\u001b[37m\u001b[0m \u001b[1m1s\u001b[0m 18ms/step - accuracy: 0.8857 - loss: 0.2943 - val_accuracy: 0.3003 - val_loss: 3.8449\n",
      "Epoch 23/25\n",
      "\u001b[1m58/58\u001b[0m \u001b[32m━━━━━━━━━━━━━━━━━━━━\u001b[0m\u001b[37m\u001b[0m \u001b[1m1s\u001b[0m 18ms/step - accuracy: 0.8446 - loss: 0.3853 - val_accuracy: 0.2778 - val_loss: 3.5786\n",
      "Epoch 24/25\n",
      "\u001b[1m58/58\u001b[0m \u001b[32m━━━━━━━━━━━━━━━━━━━━\u001b[0m\u001b[37m\u001b[0m \u001b[1m1s\u001b[0m 19ms/step - accuracy: 0.8903 - loss: 0.3065 - val_accuracy: 0.2795 - val_loss: 4.1141\n",
      "Epoch 25/25\n",
      "\u001b[1m58/58\u001b[0m \u001b[32m━━━━━━━━━━━━━━━━━━━━\u001b[0m\u001b[37m\u001b[0m \u001b[1m1s\u001b[0m 19ms/step - accuracy: 0.8860 - loss: 0.3010 - val_accuracy: 0.3038 - val_loss: 3.8476\n"
     ]
    }
   ],
   "source": [
    "\n",
    "# Train the model\n",
    "history = model.fit(X, y, epochs=25, batch_size=15, validation_split=0.4)"
   ]
  },
  {
   "cell_type": "code",
   "execution_count": 30,
   "id": "623a151b-bc14-4ed9-b4cc-7301728533c4",
   "metadata": {},
   "outputs": [
    {
     "name": "stdout",
     "output_type": "stream",
     "text": [
      "\u001b[1m1/1\u001b[0m \u001b[32m━━━━━━━━━━━━━━━━━━━━\u001b[0m\u001b[37m\u001b[0m \u001b[1m0s\u001b[0m 405ms/step\n",
      "Predicted emotion: calm\n"
     ]
    }
   ],
   "source": [
    "def predict_emotion(file_path):\n",
    "    mfcc = extract_features(file_path)\n",
    "    mfcc = np.expand_dims(mfcc, axis=0)  # Add batch dimension\n",
    "    mfcc = np.expand_dims(mfcc, axis=-1)  # Add feature dimension\n",
    "    \n",
    "    # Make the prediction\n",
    "    prediction = model.predict(mfcc)\n",
    "    predicted_class = label_encoder.inverse_transform(np.argmax(prediction, axis=1))\n",
    "    return predicted_class[0]\n",
    "\n",
    "# Test the model with a new file\n",
    "new_audio_path = 'archive/Actor_05/03-01-02-01-01-01-05.wav'\n",
    "predicted_emotion = predict_emotion(new_audio_path)\n",
    "print(f'Predicted emotion: {predicted_emotion}')"
   ]
  },
  {
   "cell_type": "code",
   "execution_count": 31,
   "id": "704c83ac-a017-400d-8bca-2c188ab4ca25",
   "metadata": {},
   "outputs": [
    {
     "name": "stdout",
     "output_type": "stream",
     "text": [
      "\u001b[1m1/1\u001b[0m \u001b[32m━━━━━━━━━━━━━━━━━━━━\u001b[0m\u001b[37m\u001b[0m \u001b[1m0s\u001b[0m 40ms/step\n",
      "Predicted emotion: neutral\n"
     ]
    }
   ],
   "source": [
    "# Test the model with a new file\n",
    "new_audio_path = 'archive/Actor_05/03-01-01-01-01-01-05.wav'\n",
    "predicted_emotion = predict_emotion(new_audio_path)\n",
    "print(f'Predicted emotion: {predicted_emotion}')"
   ]
  },
  {
   "cell_type": "code",
   "execution_count": 39,
   "id": "ffa59bf3-5204-4ef1-a6e4-3f5268dbe9aa",
   "metadata": {},
   "outputs": [
    {
     "name": "stderr",
     "output_type": "stream",
     "text": [
      "WARNING:absl:You are saving your model as an HDF5 file via `model.save()` or `keras.saving.save_model(model)`. This file format is considered legacy. We recommend using instead the native Keras format, e.g. `model.save('my_model.keras')` or `keras.saving.save_model(model, 'my_model.keras')`. \n"
     ]
    }
   ],
   "source": [
    "model.save('model.h5')"
   ]
  },
  {
   "cell_type": "code",
   "execution_count": null,
   "id": "f4c0603c-9709-4d5c-9f4a-e26661c3130e",
   "metadata": {},
   "outputs": [],
   "source": []
  }
 ],
 "metadata": {
  "kernelspec": {
   "display_name": "Python 3 (ipykernel)",
   "language": "python",
   "name": "python3"
  },
  "language_info": {
   "codemirror_mode": {
    "name": "ipython",
    "version": 3
   },
   "file_extension": ".py",
   "mimetype": "text/x-python",
   "name": "python",
   "nbconvert_exporter": "python",
   "pygments_lexer": "ipython3",
   "version": "3.12.4"
  }
 },
 "nbformat": 4,
 "nbformat_minor": 5
}
